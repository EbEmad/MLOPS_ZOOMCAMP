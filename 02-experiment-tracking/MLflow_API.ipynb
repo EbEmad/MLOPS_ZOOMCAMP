{
 "cells": [
  {
   "cell_type": "code",
   "execution_count": 4,
   "id": "70760ec6",
   "metadata": {},
   "outputs": [],
   "source": [
    "from mlflow.tracking import MlflowClient\n",
    "from mlflow.entities import ViewType\n",
    "import mlflow\n",
    "from sklearn.metrics import mean_squared_error\n",
    "import pandas as pd\n",
    "from datetime import datetime\n",
    "import pickle"
   ]
  },
  {
   "cell_type": "code",
   "execution_count": 6,
   "id": "cc60700d",
   "metadata": {},
   "outputs": [],
   "source": [
    "MLFLOW_TRACKING_URI=\"http://localhost:5000\"\n",
    "client=MlflowClient(tracking_uri=MLFLOW_TRACKING_URI)   "
   ]
  },
  {
   "cell_type": "code",
   "execution_count": 8,
   "id": "34a5da32",
   "metadata": {},
   "outputs": [
    {
     "data": {
      "text/plain": [
       "[<Experiment: artifact_location='s3://mlflow/3', creation_time=1748273246641, experiment_id='3', last_update_time=1748273246641, lifecycle_stage='active', name='nyc-taxi', tags={}>,\n",
       " <Experiment: artifact_location='s3://mlflow/1', creation_time=1748029823417, experiment_id='1', last_update_time=1748029823417, lifecycle_stage='active', name='nyc-taxi-experiment', tags={}>,\n",
       " <Experiment: artifact_location='s3://mlflow/0', creation_time=1748023896297, experiment_id='0', last_update_time=1748023896297, lifecycle_stage='active', name='Default', tags={}>]"
      ]
     },
     "execution_count": 8,
     "metadata": {},
     "output_type": "execute_result"
    }
   ],
   "source": [
    "# client.list_experiments() # In older versions\n",
    "client.search_experiments() # Ine the new version\n"
   ]
  },
  {
   "cell_type": "code",
   "execution_count": 9,
   "id": "fae82947",
   "metadata": {},
   "outputs": [
    {
     "data": {
      "text/plain": [
       "'4'"
      ]
     },
     "execution_count": 9,
     "metadata": {},
     "output_type": "execute_result"
    }
   ],
   "source": [
    "client.create_experiment(name=\"new-exp\")"
   ]
  },
  {
   "cell_type": "code",
   "execution_count": 13,
   "id": "4918930c",
   "metadata": {},
   "outputs": [
    {
     "name": "stdout",
     "output_type": "stream",
     "text": [
      " run id: 85a887925d044d07a49b49e914a1f7f6, rmse: 9.2334 \n",
      " run id: 1bffb215154c422f98d22de98c374af4, rmse: 9.2334 \n",
      " run id: 70bf1274afd64e03bea9839437f53deb, rmse: 9.2334 \n",
      " run id: 6d0e6d81aa694a6ebe2fa12aa93f04ad, rmse: 11.1673 \n",
      " run id: b625bd5bd35f491ea899fb5a7e8f3e70, rmse: 11.1673 \n",
      " run id: a22b08bf410844389631a8ea4894d9ff, rmse: 11.1673 \n",
      " run id: fe0bd524f2bb47948f0b40db8f49896b, rmse: 11.1673 \n"
     ]
    }
   ],
   "source": [
    "runs=client.search_runs(\n",
    "    experiment_ids=\"1\",\n",
    "    filter_string=\"metrics.rmse < 12\",\n",
    "    run_view_type=ViewType.ACTIVE_ONLY,\n",
    "    max_results=10,\n",
    "    order_by=['metrics.rmse ASC']\n",
    ")\n",
    "\n",
    "for run in runs:\n",
    "    print(f\" run id: {run.info.run_id}, rmse: {run.data.metrics['rmse']:.4f} \")"
   ]
  },
  {
   "cell_type": "code",
   "execution_count": 14,
   "id": "5c1ced86",
   "metadata": {},
   "outputs": [],
   "source": [
    "mlflow.set_tracking_uri(MLFLOW_TRACKING_URI)"
   ]
  },
  {
   "cell_type": "code",
   "execution_count": 15,
   "id": "cc3556dd",
   "metadata": {},
   "outputs": [
    {
     "name": "stderr",
     "output_type": "stream",
     "text": [
      "Successfully registered model 'my-model'.\n",
      "2025/05/27 06:34:53 INFO mlflow.store.model_registry.abstract_store: Waiting up to 300 seconds for model version to finish creation. Model name: my-model, version 1\n",
      "Created version '1' of model 'my-model'.\n"
     ]
    },
    {
     "data": {
      "text/plain": [
       "<ModelVersion: aliases=[], creation_timestamp=1748327693160, current_stage='None', description='', last_updated_timestamp=1748327693160, name='my-model', run_id='70bf1274afd64e03bea9839437f53deb', run_link='', source='s3://mlflow/1/70bf1274afd64e03bea9839437f53deb/artifacts/model', status='READY', status_message=None, tags={}, user_id='', version='1'>"
      ]
     },
     "execution_count": 15,
     "metadata": {},
     "output_type": "execute_result"
    }
   ],
   "source": [
    "run_id='70bf1274afd64e03bea9839437f53deb'\n",
    "model_uri=f\"runs:/{run_id}/model\"\n",
    "mlflow.register_model(model_uri=model_uri, name=\"my-model\")"
   ]
  },
  {
   "cell_type": "code",
   "execution_count": 17,
   "id": "8e57befb",
   "metadata": {},
   "outputs": [
    {
     "data": {
      "text/plain": [
       "[<RegisteredModel: aliases={}, creation_timestamp=1748327693098, description='', last_updated_timestamp=1748327693160, latest_versions=[<ModelVersion: aliases=[], creation_timestamp=1748327693160, current_stage='None', description='', last_updated_timestamp=1748327693160, name='my-model', run_id='70bf1274afd64e03bea9839437f53deb', run_link='', source='s3://mlflow/1/70bf1274afd64e03bea9839437f53deb/artifacts/model', status='READY', status_message=None, tags={}, user_id='', version='1'>], name='my-model', tags={}>]"
      ]
     },
     "execution_count": 17,
     "metadata": {},
     "output_type": "execute_result"
    }
   ],
   "source": [
    "client.search_registered_models()"
   ]
  },
  {
   "cell_type": "code",
   "execution_count": 20,
   "id": "de77529a",
   "metadata": {},
   "outputs": [
    {
     "name": "stderr",
     "output_type": "stream",
     "text": [
      "/tmp/ipykernel_171/3677878745.py:2: FutureWarning: ``mlflow.tracking.client.MlflowClient.get_latest_versions`` is deprecated since 2.9.0. Model registry stages will be removed in a future major release. To learn more about the deprecation of model registry stages, see our migration guide here: https://mlflow.org/docs/latest/model-registry.html#migrating-from-stages\n",
      "  latest_versions=client.get_latest_versions(name=model_name)\n"
     ]
    },
    {
     "name": "stdout",
     "output_type": "stream",
     "text": [
      "version: 1, stage: None\n"
     ]
    }
   ],
   "source": [
    "model_name='my-model'\n",
    "latest_versions=client.get_latest_versions(name=model_name)\n",
    "\n",
    "for version in latest_versions:\n",
    "    print(f\"version: {version.version}, stage: {version.current_stage}\")"
   ]
  },
  {
   "cell_type": "code",
   "execution_count": 24,
   "id": "0387d4eb",
   "metadata": {},
   "outputs": [
    {
     "name": "stderr",
     "output_type": "stream",
     "text": [
      "/tmp/ipykernel_171/370265925.py:3: FutureWarning: ``mlflow.tracking.client.MlflowClient.transition_model_version_stage`` is deprecated since 2.9.0. Model registry stages will be removed in a future major release. To learn more about the deprecation of model registry stages, see our migration guide here: https://mlflow.org/docs/latest/model-registry.html#migrating-from-stages\n",
      "  client.transition_model_version_stage(\n"
     ]
    },
    {
     "data": {
      "text/plain": [
       "<ModelVersion: aliases=[], creation_timestamp=1748327693160, current_stage='Staging', description='', last_updated_timestamp=1748328236314, name='my-model', run_id='70bf1274afd64e03bea9839437f53deb', run_link='', source='s3://mlflow/1/70bf1274afd64e03bea9839437f53deb/artifacts/model', status='READY', status_message=None, tags={}, user_id='', version='1'>"
      ]
     },
     "execution_count": 24,
     "metadata": {},
     "output_type": "execute_result"
    }
   ],
   "source": [
    "model_version=1\n",
    "new_stage='staging'\n",
    "client.transition_model_version_stage(\n",
    "    name=model_name,\n",
    "    version=model_version,\n",
    "    stage=new_stage,\n",
    "    archive_existing_versions=False\n",
    ")"
   ]
  },
  {
   "cell_type": "code",
   "execution_count": 25,
   "id": "c211e904",
   "metadata": {},
   "outputs": [
    {
     "data": {
      "text/plain": [
       "[<RegisteredModel: aliases={}, creation_timestamp=1748327693098, description='', last_updated_timestamp=1748328236314, latest_versions=[<ModelVersion: aliases=[], creation_timestamp=1748327693160, current_stage='Staging', description='', last_updated_timestamp=1748328236314, name='my-model', run_id='70bf1274afd64e03bea9839437f53deb', run_link='', source='s3://mlflow/1/70bf1274afd64e03bea9839437f53deb/artifacts/model', status='READY', status_message=None, tags={}, user_id='', version='1'>], name='my-model', tags={}>]"
      ]
     },
     "execution_count": 25,
     "metadata": {},
     "output_type": "execute_result"
    }
   ],
   "source": [
    "client.search_registered_models()"
   ]
  },
  {
   "cell_type": "code",
   "execution_count": 26,
   "id": "9120cb00",
   "metadata": {},
   "outputs": [
    {
     "name": "stdout",
     "output_type": "stream",
     "text": [
      "version: 1, stage: Staging\n"
     ]
    },
    {
     "name": "stderr",
     "output_type": "stream",
     "text": [
      "/tmp/ipykernel_171/2407974716.py:2: FutureWarning: ``mlflow.tracking.client.MlflowClient.get_latest_versions`` is deprecated since 2.9.0. Model registry stages will be removed in a future major release. To learn more about the deprecation of model registry stages, see our migration guide here: https://mlflow.org/docs/latest/model-registry.html#migrating-from-stages\n",
      "  latest_versions = client.get_latest_versions(name=model_name)\n"
     ]
    }
   ],
   "source": [
    "model_name = 'my-model'\n",
    "latest_versions = client.get_latest_versions(name=model_name)\n",
    "\n",
    "for version in latest_versions:\n",
    "    print(f\"version: {version.version}, stage: {version.current_stage}\")"
   ]
  },
  {
   "cell_type": "code",
   "execution_count": 27,
   "id": "2d80215a",
   "metadata": {},
   "outputs": [
    {
     "data": {
      "text/plain": [
       "<ModelVersion: aliases=[], creation_timestamp=1748327693160, current_stage='Staging', description='The model version 1 was transitioned to staging on 2025-05-27', last_updated_timestamp=1748328418109, name='my-model', run_id='70bf1274afd64e03bea9839437f53deb', run_link='', source='s3://mlflow/1/70bf1274afd64e03bea9839437f53deb/artifacts/model', status='READY', status_message=None, tags={}, user_id='', version='1'>"
      ]
     },
     "execution_count": 27,
     "metadata": {},
     "output_type": "execute_result"
    }
   ],
   "source": [
    "date=datetime.today().date()\n",
    "\n",
    "client.update_model_version(\n",
    "    name=model_name,\n",
    "    version=model_version,\n",
    "    description=f\"The model version {model_version} was transitioned to {new_stage} on {date}\"\n",
    ")"
   ]
  },
  {
   "cell_type": "code",
   "execution_count": 30,
   "id": "b0d4b557",
   "metadata": {},
   "outputs": [],
   "source": [
    "def read_data_frame(file):\n",
    "    df = pd.read_parquet(file)\n",
    "\n",
    "    df['duration'] = df.lpep_dropoff_datetime - df.lpep_pickup_datetime\n",
    "    df.duration = df.duration.apply(lambda td: td.total_seconds() / 60)\n",
    "\n",
    "    df = df[(df.duration >= 1) & (df.duration <= 60)]\n",
    "\n",
    "    categorical = ['PULocationID', 'DOLocationID']\n",
    "    numerical = ['trip_distance']\n",
    "    df[categorical] = df[categorical].astype(str)\n",
    "    \n",
    "    return df\n",
    "\n",
    "def preprocess(df,dv):\n",
    "    df['PU_DO'] = df['PULocationID'] + '_' + df['DOLocationID']\n",
    "    categorical = ['PU_DO']\n",
    "    numerical = ['trip_distance']\n",
    "    train_dicts = df[categorical + numerical].to_dict(orient='records')\n",
    "    \n",
    "    return dv.transform(train_dicts)\n",
    "\n",
    "def test_model(name,stage,x_test,y_test):\n",
    "    model = mlflow.pyfunc.load_model(f\"models:/{name}/{stage}\")\n",
    "    y_pred = model.predict(x_test)\n",
    "    return {\"rmse\": mean_squared_error(y_test, y_pred, squared=False)}\n"
   ]
  },
  {
   "cell_type": "code",
   "execution_count": 31,
   "id": "e32fe515",
   "metadata": {},
   "outputs": [],
   "source": [
    "df = read_data_frame('https://d37ci6vzurychx.cloudfront.net/trip-data/green_tripdata_2021-03.parquet')\n"
   ]
  },
  {
   "cell_type": "code",
   "execution_count": null,
   "id": "d3f9948b",
   "metadata": {},
   "outputs": [],
   "source": [
    "run_id = '70bf1274afd64e03bea9839437f53deb'\n",
    "client.download_artifacts(run_id=run_id, path='preprocessor', dst_path='.')"
   ]
  },
  {
   "cell_type": "code",
   "execution_count": null,
   "id": "bb2c8761",
   "metadata": {},
   "outputs": [],
   "source": [
    "with open(\"preprocessor/preprocessor.b\", \"rb\") as f_in:\n",
    "    dv = pickle.load(f_in)"
   ]
  },
  {
   "cell_type": "code",
   "execution_count": null,
   "id": "732588f0",
   "metadata": {},
   "outputs": [],
   "source": [
    "x_test = preprocess(df, dv[0])"
   ]
  },
  {
   "cell_type": "code",
   "execution_count": null,
   "id": "f3e49c1b",
   "metadata": {},
   "outputs": [],
   "source": [
    "target = \"duration\"\n",
    "y_test = df[target].values"
   ]
  },
  {
   "cell_type": "code",
   "execution_count": null,
   "id": "8c7cc60b",
   "metadata": {},
   "outputs": [],
   "source": [
    "%time test_model(name=model_name, stage=\"Production\", x_test=x_test, y_test=y_test)"
   ]
  }
 ],
 "metadata": {
  "kernelspec": {
   "display_name": "Python 3 (ipykernel)",
   "language": "python",
   "name": "python3"
  },
  "language_info": {
   "codemirror_mode": {
    "name": "ipython",
    "version": 3
   },
   "file_extension": ".py",
   "mimetype": "text/x-python",
   "name": "python",
   "nbconvert_exporter": "python",
   "pygments_lexer": "ipython3",
   "version": "3.11.12"
  }
 },
 "nbformat": 4,
 "nbformat_minor": 5
}
