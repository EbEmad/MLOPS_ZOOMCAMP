{
 "cells": [
  {
   "cell_type": "code",
   "execution_count": null,
   "id": "74703c33-4b7a-475f-8886-e7809ce66442",
   "metadata": {},
   "outputs": [],
   "source": [
    "import pandas as pd\n",
    "import numpy as np\n",
    "import seaborn as sns\n",
    "import matplotlib.pyplot as plt\n",
    "from sklearn.feature_extraction import DictVectorizer\n",
    "from sklearn.linear_model import LinearRegression, Lasso, Ridge\n",
    "from sklearn.metrics import mean_squared_error\n",
    "import pickle\n",
    "from hyperopt import fmin, tpe, hp, STATUS_OK, Trials\n",
    "from hyperopt.pyll import scope\n",
    "import mlflow\n",
    "import os"
   ]
  },
  {
   "cell_type": "code",
   "execution_count": null,
   "id": "c76666d3-78b4-498e-891f-75a63eeef71d",
   "metadata": {},
   "outputs": [],
   "source": [
    "def read_data_frame(file_path):\n",
    "    df=pd.read_parquet(file_path)\n",
    "\n",
    "    df['duration']=df.lpep_dropoff_datetime-df.lpep_pickup_datetime\n",
    "    df.duration=df.duration.apply(lambda x:x.total_seconds()/60)\n",
    "    df = df[(df.duration >= 1) & (df.duration <= 60)]\n",
    "    categorical = ['PULocationID', 'DOLocationID']\n",
    "    numerical = ['trip_distance']\n",
    "    df[categorical] = df[categorical].astype(str)\n",
    "    return df\n",
    "    \n",
    "    "
   ]
  },
  {
   "cell_type": "code",
   "execution_count": null,
   "id": "c63a97b9-fb46-4950-abad-36a4ddc52ed0",
   "metadata": {},
   "outputs": [],
   "source": [
    "df_train=read_data_frame('https://d37ci6vzurychx.cloudfront.net/trip-data/green_tripdata_2021-01.parquet')\n",
    "df_val = read_data_frame('https://d37ci6vzurychx.cloudfront.net/trip-data/green_tripdata_2021-02.parquet')"
   ]
  },
  {
   "cell_type": "code",
   "execution_count": null,
   "id": "2d7af530-729c-427f-9b9b-0fe1e269e5be",
   "metadata": {},
   "outputs": [],
   "source": [
    "df_train.info()"
   ]
  },
  {
   "cell_type": "code",
   "execution_count": null,
   "id": "7df24a91-a20b-4c1e-bd88-8b4d3a9c486f",
   "metadata": {},
   "outputs": [],
   "source": [
    "'''cat_col=df_train.select_dtypes(include='object')\n",
    "   num_col=df_train.select_dtypes(exclude='object')'''"
   ]
  },
  {
   "cell_type": "code",
   "execution_count": null,
   "id": "ca372e05-19dc-49b0-9af7-399d1da450b9",
   "metadata": {},
   "outputs": [],
   "source": [
    "df_train"
   ]
  },
  {
   "cell_type": "code",
   "execution_count": null,
   "id": "5f582bc1-e951-4cad-a1c2-a7b596c8134e",
   "metadata": {},
   "outputs": [],
   "source": [
    "sns.distplot(df_train.duration)"
   ]
  },
  {
   "cell_type": "code",
   "execution_count": null,
   "id": "ff5fd328-af55-4d50-a60f-97f0f911d34b",
   "metadata": {},
   "outputs": [],
   "source": [
    "df_train.duration"
   ]
  },
  {
   "cell_type": "code",
   "execution_count": null,
   "id": "89ba3176-1a1b-4fdc-912c-35f48f30e523",
   "metadata": {},
   "outputs": [],
   "source": [
    "df_train.duration.describe()"
   ]
  },
  {
   "cell_type": "code",
   "execution_count": null,
   "id": "ad43b0cc-1201-4095-9bd5-388eff0e55ea",
   "metadata": {},
   "outputs": [],
   "source": [
    "df_train.duration.describe(percentiles=[.95,.98,.99])"
   ]
  },
  {
   "cell_type": "code",
   "execution_count": null,
   "id": "81ce3461-f69d-4002-88ec-7e40b83fa2ab",
   "metadata": {
    "scrolled": true
   },
   "outputs": [],
   "source": [
    "cat_cols = ['PULocationID', 'DOLocationID']\n",
    "num_cols = ['trip_distance']\n",
    "train_dicts=df_train[cat_cols+num_cols].to_dict(orient='records')\n",
    "dv=DictVectorizer()\n",
    "x_train=dv.fit_transform(train_dicts)\n",
    "target='duration'\n",
    "y_train=df_train[target].values\n",
    "lr=LinearRegression()\n",
    "lr.fit(x_train,y_train)\n",
    "y_pred=lr.predict(x_train)\n",
    "mse=mean_squared_error(y_train, y_pred)\n",
    "rmse=np.sqrt(mse)\n",
    "rmse"
   ]
  },
  {
   "cell_type": "code",
   "execution_count": null,
   "id": "3d960db3-f950-4f6d-af60-23fd4b769dc6",
   "metadata": {},
   "outputs": [],
   "source": [
    "sns.distplot(y_pred, label='Prediction')\n",
    "sns.distplot(y_train, label='Actual')\n",
    "\n",
    "plt.legend()"
   ]
  },
  {
   "cell_type": "code",
   "execution_count": null,
   "id": "49dce787-624b-4a4e-9069-3adf9026920e",
   "metadata": {},
   "outputs": [],
   "source": [
    "df_train['PU_DO']=df_train['PULocationID']+'_'+df_train['DOLocationID']\n",
    "df_val['PU_DO'] = df_val['PULocationID'] + '_' + df_val['DOLocationID']"
   ]
  },
  {
   "cell_type": "code",
   "execution_count": null,
   "id": "7b4d0b2d-00c1-4a90-973e-2dd001a6afbd",
   "metadata": {},
   "outputs": [],
   "source": [
    "cat_col=['PU_DO']\n",
    "num_col=['trip_distance']\n",
    "dv=DictVectorizer()\n",
    "train_dicts=df_train[cat_col+num_col].to_dict(orient='records')\n",
    "x_train=dv.fit_transform(train_dicts)\n",
    "val_dicts = df_val[cat_col + num_col].to_dict(orient='records')\n",
    "x_val = dv.transform(val_dicts)"
   ]
  },
  {
   "cell_type": "code",
   "execution_count": null,
   "id": "734c0f3f-9d6e-4de8-9ffc-cbc93ae0c7c2",
   "metadata": {},
   "outputs": [],
   "source": [
    "target='duration'\n",
    "y_train=df_train[target].values\n",
    "y_val=df_val[target].values"
   ]
  },
  {
   "cell_type": "code",
   "execution_count": null,
   "id": "ea23e638-8ee0-4e96-b6d9-c1e2cf1c8f15",
   "metadata": {},
   "outputs": [],
   "source": [
    "lr=LinearRegression()\n",
    "lr.fit(x_train,y_train)\n",
    "y_pred=lr.predict(x_val)\n",
    "mse=mean_squared_error(y_val, y_pred)\n",
    "rmse=np.sqrt(mse)\n",
    "rmse"
   ]
  },
  {
   "cell_type": "markdown",
   "id": "25f7f67b",
   "metadata": {},
   "source": [
    "### Use Mlflow"
   ]
  },
  {
   "cell_type": "code",
   "execution_count": null,
   "id": "8f16b545",
   "metadata": {},
   "outputs": [],
   "source": [
    "os.makedirs('./Models',exist_ok=True)\n",
    "with open('./Models/lin_rdge.bin', 'wb') as f_out:\n",
    "    pickle.dump((dv, lr), f_out)\n",
    "    "
   ]
  },
  {
   "cell_type": "code",
   "execution_count": null,
   "id": "11e1fcb5",
   "metadata": {},
   "outputs": [],
   "source": [
    "import os\n",
    "print(os.getcwd())"
   ]
  },
  {
   "cell_type": "code",
   "execution_count": null,
   "id": "c78ac8c4",
   "metadata": {},
   "outputs": [],
   "source": [
    "mlflow.set_tracking_uri(\"http://localhost:5000\") # tells mlflow where the tracking server\n",
    "mlflow.set_experiment(\"Mlops_ZoomCamp\") # # creates or selects an experiment to log runs (like training ,metrics,models)"
   ]
  },
  {
   "cell_type": "code",
   "execution_count": null,
   "id": "7cbacece",
   "metadata": {},
   "outputs": [],
   "source": [
    "with mlflow.start_run():\n",
    "    mlflow.set_tag('developer','Ebrahim Emad')\n",
    "    mlflow.log_param('train-data-path','https://d37ci6vzurychx.cloudfront.net/trip-data/green_tripdata_2021-01.parquet')\n",
    "    mlflow.log_param('val-data-path','https://d37ci6vzurychx.cloudfront.net/trip-data/green_tripdata_2021-02.parquet')\n",
    "    alpha=0.01\n",
    "    mlflow.log_param('alpha',alpha)\n",
    "    lr=Lasso(0.1)\n",
    "    lr.fit(x_train,y_train)\n",
    "    y_pred=lr.predict(x_val)\n",
    "    rmse = np.sqrt(mean_squared_error(y_val, y_pred))\n",
    "    mlflow.log_metric('rmse',rmse)\n",
    "    mlflow.log_artifact('./Models/lin_rdge.bin', artifact_path='models_pickle')"
   ]
  },
  {
   "cell_type": "code",
   "execution_count": null,
   "id": "062e6c22",
   "metadata": {},
   "outputs": [],
   "source": [
    "import mlflow\n",
    "print(mlflow.__version__)"
   ]
  },
  {
   "cell_type": "code",
   "execution_count": null,
   "id": "17cd12e1",
   "metadata": {},
   "outputs": [],
   "source": [
    "import joblib\n",
    "\n",
    "# Load directly with joblib (not through MLflow)\n",
    "model_path = \"./02-experiment-tracking/mlflow_artifacts/1/2ee972101ffc40278a565d8d80990512/artifacts/models_pickle/lin_rdge.bin\"\n",
    "loaded_model = joblib.load(model_path)\n",
    "loaded_model"
   ]
  },
  {
   "cell_type": "code",
   "execution_count": null,
   "id": "b1d4df41",
   "metadata": {},
   "outputs": [],
   "source": [
    "y_pred = loaded_model[1].predict(x_val)\n",
    "y_pred"
   ]
  },
  {
   "cell_type": "code",
   "execution_count": null,
   "id": "17cd6a52",
   "metadata": {},
   "outputs": [],
   "source": []
  }
 ],
 "metadata": {
  "kernelspec": {
   "display_name": "Python 3 (ipykernel)",
   "language": "python",
   "name": "python3"
  },
  "language_info": {
   "codemirror_mode": {
    "name": "ipython",
    "version": 3
   },
   "file_extension": ".py",
   "mimetype": "text/x-python",
   "name": "python",
   "nbconvert_exporter": "python",
   "pygments_lexer": "ipython3",
   "version": "3.10.18"
  }
 },
 "nbformat": 4,
 "nbformat_minor": 5
}
