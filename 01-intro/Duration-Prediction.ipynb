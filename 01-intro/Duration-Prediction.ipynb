{
 "cells": [
  {
   "cell_type": "code",
   "execution_count": 1,
   "id": "74703c33-4b7a-475f-8886-e7809ce66442",
   "metadata": {},
   "outputs": [],
   "source": [
    "import pandas as pd\n",
    "import numpy as np\n",
    "import seaborn as sns\n",
    "import matplotlib.pyplot as plt\n",
    "from sklearn.feature_extraction import DictVectorizer\n",
    "from sklearn.linear_model import LinearRegression, Lasso, Ridge\n",
    "from sklearn.metrics import mean_squared_error\n",
    "import pickle"
   ]
  },
  {
   "cell_type": "code",
   "execution_count": 2,
   "id": "c76666d3-78b4-498e-891f-75a63eeef71d",
   "metadata": {},
   "outputs": [],
   "source": [
    "def read_data_frame(file_path):\n",
    "    df=pd.read_parquet(file_path)\n",
    "\n",
    "    df['duration']=df.lpep_dropoff_datetime-df.lpep_pickup_datetime\n",
    "    df.duration=df.duration.apply(lambda x:x.total_seconds()/60)\n",
    "    df = df[(df.duration >= 1) & (df.duration <= 60)]\n",
    "    categorical = ['PULocationID', 'DOLocationID']\n",
    "    numerical = ['trip_distance']\n",
    "    df[categorical] = df[categorical].astype(str)\n",
    "    return df\n",
    "    \n",
    "    "
   ]
  },
  {
   "cell_type": "code",
   "execution_count": 3,
   "id": "c63a97b9-fb46-4950-abad-36a4ddc52ed0",
   "metadata": {},
   "outputs": [],
   "source": [
    "df_train=read_data_frame('https://d37ci6vzurychx.cloudfront.net/trip-data/green_tripdata_2021-01.parquet')\n",
    "df_val = read_data_frame('https://d37ci6vzurychx.cloudfront.net/trip-data/green_tripdata_2021-02.parquet')"
   ]
  },
  {
   "cell_type": "code",
   "execution_count": 4,
   "id": "2d7af530-729c-427f-9b9b-0fe1e269e5be",
   "metadata": {},
   "outputs": [
    {
     "name": "stdout",
     "output_type": "stream",
     "text": [
      "<class 'pandas.core.frame.DataFrame'>\n",
      "Index: 73908 entries, 0 to 76517\n",
      "Data columns (total 21 columns):\n",
      " #   Column                 Non-Null Count  Dtype         \n",
      "---  ------                 --------------  -----         \n",
      " 0   VendorID               73908 non-null  int64         \n",
      " 1   lpep_pickup_datetime   73908 non-null  datetime64[us]\n",
      " 2   lpep_dropoff_datetime  73908 non-null  datetime64[us]\n",
      " 3   store_and_fwd_flag     38175 non-null  object        \n",
      " 4   RatecodeID             38175 non-null  float64       \n",
      " 5   PULocationID           73908 non-null  object        \n",
      " 6   DOLocationID           73908 non-null  object        \n",
      " 7   passenger_count        38175 non-null  float64       \n",
      " 8   trip_distance          73908 non-null  float64       \n",
      " 9   fare_amount            73908 non-null  float64       \n",
      " 10  extra                  73908 non-null  float64       \n",
      " 11  mta_tax                73908 non-null  float64       \n",
      " 12  tip_amount             73908 non-null  float64       \n",
      " 13  tolls_amount           73908 non-null  float64       \n",
      " 14  ehail_fee              0 non-null      object        \n",
      " 15  improvement_surcharge  73908 non-null  float64       \n",
      " 16  total_amount           73908 non-null  float64       \n",
      " 17  payment_type           38175 non-null  float64       \n",
      " 18  trip_type              38175 non-null  float64       \n",
      " 19  congestion_surcharge   38175 non-null  float64       \n",
      " 20  duration               73908 non-null  float64       \n",
      "dtypes: datetime64[us](2), float64(14), int64(1), object(4)\n",
      "memory usage: 12.4+ MB\n"
     ]
    }
   ],
   "source": [
    "df_train.info()"
   ]
  },
  {
   "cell_type": "code",
   "execution_count": 5,
   "id": "7df24a91-a20b-4c1e-bd88-8b4d3a9c486f",
   "metadata": {},
   "outputs": [
    {
     "data": {
      "text/plain": [
       "\"cat_col=df_train.select_dtypes(include='object')\\n   num_col=df_train.select_dtypes(exclude='object')\""
      ]
     },
     "execution_count": 5,
     "metadata": {},
     "output_type": "execute_result"
    }
   ],
   "source": [
    "'''cat_col=df_train.select_dtypes(include='object')\n",
    "   num_col=df_train.select_dtypes(exclude='object')'''"
   ]
  },
  {
   "cell_type": "code",
   "execution_count": 6,
   "id": "ca372e05-19dc-49b0-9af7-399d1da450b9",
   "metadata": {},
   "outputs": [
    {
     "data": {
      "text/html": [
       "<div>\n",
       "<style scoped>\n",
       "    .dataframe tbody tr th:only-of-type {\n",
       "        vertical-align: middle;\n",
       "    }\n",
       "\n",
       "    .dataframe tbody tr th {\n",
       "        vertical-align: top;\n",
       "    }\n",
       "\n",
       "    .dataframe thead th {\n",
       "        text-align: right;\n",
       "    }\n",
       "</style>\n",
       "<table border=\"1\" class=\"dataframe\">\n",
       "  <thead>\n",
       "    <tr style=\"text-align: right;\">\n",
       "      <th></th>\n",
       "      <th>VendorID</th>\n",
       "      <th>lpep_pickup_datetime</th>\n",
       "      <th>lpep_dropoff_datetime</th>\n",
       "      <th>store_and_fwd_flag</th>\n",
       "      <th>RatecodeID</th>\n",
       "      <th>PULocationID</th>\n",
       "      <th>DOLocationID</th>\n",
       "      <th>passenger_count</th>\n",
       "      <th>trip_distance</th>\n",
       "      <th>fare_amount</th>\n",
       "      <th>...</th>\n",
       "      <th>mta_tax</th>\n",
       "      <th>tip_amount</th>\n",
       "      <th>tolls_amount</th>\n",
       "      <th>ehail_fee</th>\n",
       "      <th>improvement_surcharge</th>\n",
       "      <th>total_amount</th>\n",
       "      <th>payment_type</th>\n",
       "      <th>trip_type</th>\n",
       "      <th>congestion_surcharge</th>\n",
       "      <th>duration</th>\n",
       "    </tr>\n",
       "  </thead>\n",
       "  <tbody>\n",
       "    <tr>\n",
       "      <th>0</th>\n",
       "      <td>2</td>\n",
       "      <td>2021-01-01 00:15:56</td>\n",
       "      <td>2021-01-01 00:19:52</td>\n",
       "      <td>N</td>\n",
       "      <td>1.0</td>\n",
       "      <td>43</td>\n",
       "      <td>151</td>\n",
       "      <td>1.0</td>\n",
       "      <td>1.01</td>\n",
       "      <td>5.50</td>\n",
       "      <td>...</td>\n",
       "      <td>0.5</td>\n",
       "      <td>0.00</td>\n",
       "      <td>0.00</td>\n",
       "      <td>None</td>\n",
       "      <td>0.3</td>\n",
       "      <td>6.80</td>\n",
       "      <td>2.0</td>\n",
       "      <td>1.0</td>\n",
       "      <td>0.00</td>\n",
       "      <td>3.933333</td>\n",
       "    </tr>\n",
       "    <tr>\n",
       "      <th>1</th>\n",
       "      <td>2</td>\n",
       "      <td>2021-01-01 00:25:59</td>\n",
       "      <td>2021-01-01 00:34:44</td>\n",
       "      <td>N</td>\n",
       "      <td>1.0</td>\n",
       "      <td>166</td>\n",
       "      <td>239</td>\n",
       "      <td>1.0</td>\n",
       "      <td>2.53</td>\n",
       "      <td>10.00</td>\n",
       "      <td>...</td>\n",
       "      <td>0.5</td>\n",
       "      <td>2.81</td>\n",
       "      <td>0.00</td>\n",
       "      <td>None</td>\n",
       "      <td>0.3</td>\n",
       "      <td>16.86</td>\n",
       "      <td>1.0</td>\n",
       "      <td>1.0</td>\n",
       "      <td>2.75</td>\n",
       "      <td>8.750000</td>\n",
       "    </tr>\n",
       "    <tr>\n",
       "      <th>2</th>\n",
       "      <td>2</td>\n",
       "      <td>2021-01-01 00:45:57</td>\n",
       "      <td>2021-01-01 00:51:55</td>\n",
       "      <td>N</td>\n",
       "      <td>1.0</td>\n",
       "      <td>41</td>\n",
       "      <td>42</td>\n",
       "      <td>1.0</td>\n",
       "      <td>1.12</td>\n",
       "      <td>6.00</td>\n",
       "      <td>...</td>\n",
       "      <td>0.5</td>\n",
       "      <td>1.00</td>\n",
       "      <td>0.00</td>\n",
       "      <td>None</td>\n",
       "      <td>0.3</td>\n",
       "      <td>8.30</td>\n",
       "      <td>1.0</td>\n",
       "      <td>1.0</td>\n",
       "      <td>0.00</td>\n",
       "      <td>5.966667</td>\n",
       "    </tr>\n",
       "    <tr>\n",
       "      <th>3</th>\n",
       "      <td>2</td>\n",
       "      <td>2020-12-31 23:57:51</td>\n",
       "      <td>2021-01-01 00:04:56</td>\n",
       "      <td>N</td>\n",
       "      <td>1.0</td>\n",
       "      <td>168</td>\n",
       "      <td>75</td>\n",
       "      <td>1.0</td>\n",
       "      <td>1.99</td>\n",
       "      <td>8.00</td>\n",
       "      <td>...</td>\n",
       "      <td>0.5</td>\n",
       "      <td>0.00</td>\n",
       "      <td>0.00</td>\n",
       "      <td>None</td>\n",
       "      <td>0.3</td>\n",
       "      <td>9.30</td>\n",
       "      <td>2.0</td>\n",
       "      <td>1.0</td>\n",
       "      <td>0.00</td>\n",
       "      <td>7.083333</td>\n",
       "    </tr>\n",
       "    <tr>\n",
       "      <th>7</th>\n",
       "      <td>2</td>\n",
       "      <td>2021-01-01 00:26:31</td>\n",
       "      <td>2021-01-01 00:28:50</td>\n",
       "      <td>N</td>\n",
       "      <td>1.0</td>\n",
       "      <td>75</td>\n",
       "      <td>75</td>\n",
       "      <td>6.0</td>\n",
       "      <td>0.45</td>\n",
       "      <td>3.50</td>\n",
       "      <td>...</td>\n",
       "      <td>0.5</td>\n",
       "      <td>0.96</td>\n",
       "      <td>0.00</td>\n",
       "      <td>None</td>\n",
       "      <td>0.3</td>\n",
       "      <td>5.76</td>\n",
       "      <td>1.0</td>\n",
       "      <td>1.0</td>\n",
       "      <td>0.00</td>\n",
       "      <td>2.316667</td>\n",
       "    </tr>\n",
       "    <tr>\n",
       "      <th>...</th>\n",
       "      <td>...</td>\n",
       "      <td>...</td>\n",
       "      <td>...</td>\n",
       "      <td>...</td>\n",
       "      <td>...</td>\n",
       "      <td>...</td>\n",
       "      <td>...</td>\n",
       "      <td>...</td>\n",
       "      <td>...</td>\n",
       "      <td>...</td>\n",
       "      <td>...</td>\n",
       "      <td>...</td>\n",
       "      <td>...</td>\n",
       "      <td>...</td>\n",
       "      <td>...</td>\n",
       "      <td>...</td>\n",
       "      <td>...</td>\n",
       "      <td>...</td>\n",
       "      <td>...</td>\n",
       "      <td>...</td>\n",
       "      <td>...</td>\n",
       "    </tr>\n",
       "    <tr>\n",
       "      <th>76513</th>\n",
       "      <td>2</td>\n",
       "      <td>2021-01-31 21:38:00</td>\n",
       "      <td>2021-01-31 22:16:00</td>\n",
       "      <td>None</td>\n",
       "      <td>NaN</td>\n",
       "      <td>81</td>\n",
       "      <td>90</td>\n",
       "      <td>NaN</td>\n",
       "      <td>17.63</td>\n",
       "      <td>56.23</td>\n",
       "      <td>...</td>\n",
       "      <td>0.0</td>\n",
       "      <td>0.00</td>\n",
       "      <td>6.12</td>\n",
       "      <td>None</td>\n",
       "      <td>0.3</td>\n",
       "      <td>65.40</td>\n",
       "      <td>NaN</td>\n",
       "      <td>NaN</td>\n",
       "      <td>NaN</td>\n",
       "      <td>38.000000</td>\n",
       "    </tr>\n",
       "    <tr>\n",
       "      <th>76514</th>\n",
       "      <td>2</td>\n",
       "      <td>2021-01-31 22:43:00</td>\n",
       "      <td>2021-01-31 23:21:00</td>\n",
       "      <td>None</td>\n",
       "      <td>NaN</td>\n",
       "      <td>35</td>\n",
       "      <td>213</td>\n",
       "      <td>NaN</td>\n",
       "      <td>18.36</td>\n",
       "      <td>46.66</td>\n",
       "      <td>...</td>\n",
       "      <td>0.0</td>\n",
       "      <td>12.20</td>\n",
       "      <td>6.12</td>\n",
       "      <td>None</td>\n",
       "      <td>0.3</td>\n",
       "      <td>65.28</td>\n",
       "      <td>NaN</td>\n",
       "      <td>NaN</td>\n",
       "      <td>NaN</td>\n",
       "      <td>38.000000</td>\n",
       "    </tr>\n",
       "    <tr>\n",
       "      <th>76515</th>\n",
       "      <td>2</td>\n",
       "      <td>2021-01-31 22:16:00</td>\n",
       "      <td>2021-01-31 22:27:00</td>\n",
       "      <td>None</td>\n",
       "      <td>NaN</td>\n",
       "      <td>74</td>\n",
       "      <td>69</td>\n",
       "      <td>NaN</td>\n",
       "      <td>2.50</td>\n",
       "      <td>18.95</td>\n",
       "      <td>...</td>\n",
       "      <td>0.0</td>\n",
       "      <td>0.00</td>\n",
       "      <td>0.00</td>\n",
       "      <td>None</td>\n",
       "      <td>0.3</td>\n",
       "      <td>22.00</td>\n",
       "      <td>NaN</td>\n",
       "      <td>NaN</td>\n",
       "      <td>NaN</td>\n",
       "      <td>11.000000</td>\n",
       "    </tr>\n",
       "    <tr>\n",
       "      <th>76516</th>\n",
       "      <td>2</td>\n",
       "      <td>2021-01-31 23:10:00</td>\n",
       "      <td>2021-01-31 23:37:00</td>\n",
       "      <td>None</td>\n",
       "      <td>NaN</td>\n",
       "      <td>168</td>\n",
       "      <td>215</td>\n",
       "      <td>NaN</td>\n",
       "      <td>14.48</td>\n",
       "      <td>48.87</td>\n",
       "      <td>...</td>\n",
       "      <td>0.0</td>\n",
       "      <td>0.00</td>\n",
       "      <td>6.12</td>\n",
       "      <td>None</td>\n",
       "      <td>0.3</td>\n",
       "      <td>58.04</td>\n",
       "      <td>NaN</td>\n",
       "      <td>NaN</td>\n",
       "      <td>NaN</td>\n",
       "      <td>27.000000</td>\n",
       "    </tr>\n",
       "    <tr>\n",
       "      <th>76517</th>\n",
       "      <td>2</td>\n",
       "      <td>2021-01-31 23:25:00</td>\n",
       "      <td>2021-01-31 23:35:00</td>\n",
       "      <td>None</td>\n",
       "      <td>NaN</td>\n",
       "      <td>119</td>\n",
       "      <td>244</td>\n",
       "      <td>NaN</td>\n",
       "      <td>1.81</td>\n",
       "      <td>15.45</td>\n",
       "      <td>...</td>\n",
       "      <td>0.0</td>\n",
       "      <td>0.00</td>\n",
       "      <td>0.00</td>\n",
       "      <td>None</td>\n",
       "      <td>0.3</td>\n",
       "      <td>18.50</td>\n",
       "      <td>NaN</td>\n",
       "      <td>NaN</td>\n",
       "      <td>NaN</td>\n",
       "      <td>10.000000</td>\n",
       "    </tr>\n",
       "  </tbody>\n",
       "</table>\n",
       "<p>73908 rows × 21 columns</p>\n",
       "</div>"
      ],
      "text/plain": [
       "       VendorID lpep_pickup_datetime lpep_dropoff_datetime store_and_fwd_flag  \\\n",
       "0             2  2021-01-01 00:15:56   2021-01-01 00:19:52                  N   \n",
       "1             2  2021-01-01 00:25:59   2021-01-01 00:34:44                  N   \n",
       "2             2  2021-01-01 00:45:57   2021-01-01 00:51:55                  N   \n",
       "3             2  2020-12-31 23:57:51   2021-01-01 00:04:56                  N   \n",
       "7             2  2021-01-01 00:26:31   2021-01-01 00:28:50                  N   \n",
       "...         ...                  ...                   ...                ...   \n",
       "76513         2  2021-01-31 21:38:00   2021-01-31 22:16:00               None   \n",
       "76514         2  2021-01-31 22:43:00   2021-01-31 23:21:00               None   \n",
       "76515         2  2021-01-31 22:16:00   2021-01-31 22:27:00               None   \n",
       "76516         2  2021-01-31 23:10:00   2021-01-31 23:37:00               None   \n",
       "76517         2  2021-01-31 23:25:00   2021-01-31 23:35:00               None   \n",
       "\n",
       "       RatecodeID PULocationID DOLocationID  passenger_count  trip_distance  \\\n",
       "0             1.0           43          151              1.0           1.01   \n",
       "1             1.0          166          239              1.0           2.53   \n",
       "2             1.0           41           42              1.0           1.12   \n",
       "3             1.0          168           75              1.0           1.99   \n",
       "7             1.0           75           75              6.0           0.45   \n",
       "...           ...          ...          ...              ...            ...   \n",
       "76513         NaN           81           90              NaN          17.63   \n",
       "76514         NaN           35          213              NaN          18.36   \n",
       "76515         NaN           74           69              NaN           2.50   \n",
       "76516         NaN          168          215              NaN          14.48   \n",
       "76517         NaN          119          244              NaN           1.81   \n",
       "\n",
       "       fare_amount  ...  mta_tax  tip_amount  tolls_amount  ehail_fee  \\\n",
       "0             5.50  ...      0.5        0.00          0.00       None   \n",
       "1            10.00  ...      0.5        2.81          0.00       None   \n",
       "2             6.00  ...      0.5        1.00          0.00       None   \n",
       "3             8.00  ...      0.5        0.00          0.00       None   \n",
       "7             3.50  ...      0.5        0.96          0.00       None   \n",
       "...            ...  ...      ...         ...           ...        ...   \n",
       "76513        56.23  ...      0.0        0.00          6.12       None   \n",
       "76514        46.66  ...      0.0       12.20          6.12       None   \n",
       "76515        18.95  ...      0.0        0.00          0.00       None   \n",
       "76516        48.87  ...      0.0        0.00          6.12       None   \n",
       "76517        15.45  ...      0.0        0.00          0.00       None   \n",
       "\n",
       "      improvement_surcharge  total_amount  payment_type  trip_type  \\\n",
       "0                       0.3          6.80           2.0        1.0   \n",
       "1                       0.3         16.86           1.0        1.0   \n",
       "2                       0.3          8.30           1.0        1.0   \n",
       "3                       0.3          9.30           2.0        1.0   \n",
       "7                       0.3          5.76           1.0        1.0   \n",
       "...                     ...           ...           ...        ...   \n",
       "76513                   0.3         65.40           NaN        NaN   \n",
       "76514                   0.3         65.28           NaN        NaN   \n",
       "76515                   0.3         22.00           NaN        NaN   \n",
       "76516                   0.3         58.04           NaN        NaN   \n",
       "76517                   0.3         18.50           NaN        NaN   \n",
       "\n",
       "       congestion_surcharge   duration  \n",
       "0                      0.00   3.933333  \n",
       "1                      2.75   8.750000  \n",
       "2                      0.00   5.966667  \n",
       "3                      0.00   7.083333  \n",
       "7                      0.00   2.316667  \n",
       "...                     ...        ...  \n",
       "76513                   NaN  38.000000  \n",
       "76514                   NaN  38.000000  \n",
       "76515                   NaN  11.000000  \n",
       "76516                   NaN  27.000000  \n",
       "76517                   NaN  10.000000  \n",
       "\n",
       "[73908 rows x 21 columns]"
      ]
     },
     "execution_count": 6,
     "metadata": {},
     "output_type": "execute_result"
    }
   ],
   "source": [
    "df_train"
   ]
  },
  {
   "cell_type": "code",
   "execution_count": 7,
   "id": "5f582bc1-e951-4cad-a1c2-a7b596c8134e",
   "metadata": {},
   "outputs": [
    {
     "name": "stderr",
     "output_type": "stream",
     "text": [
      "/tmp/ipykernel_25/55724668.py:1: UserWarning: \n",
      "\n",
      "`distplot` is a deprecated function and will be removed in seaborn v0.14.0.\n",
      "\n",
      "Please adapt your code to use either `displot` (a figure-level function with\n",
      "similar flexibility) or `histplot` (an axes-level function for histograms).\n",
      "\n",
      "For a guide to updating your code to use the new functions, please see\n",
      "https://gist.github.com/mwaskom/de44147ed2974457ad6372750bbe5751\n",
      "\n",
      "  sns.distplot(df_train.duration)\n"
     ]
    },
    {
     "data": {
      "text/plain": [
       "<Axes: xlabel='duration', ylabel='Density'>"
      ]
     },
     "execution_count": 7,
     "metadata": {},
     "output_type": "execute_result"
    },
    {
     "data": {
      "image/png": "[encoded data removed]",
      "text/plain": [
       "<Figure size 640x480 with 1 Axes>"
      ]
     },
     "metadata": {},
     "output_type": "display_data"
    }
   ],
   "source": [
    "sns.distplot(df_train.duration)"
   ]
  },
  {
   "cell_type": "code",
   "execution_count": 8,
   "id": "ff5fd328-af55-4d50-a60f-97f0f911d34b",
   "metadata": {},
   "outputs": [
    {
     "data": {
      "text/plain": [
       "0         3.933333\n",
       "1         8.750000\n",
       "2         5.966667\n",
       "3         7.083333\n",
       "7         2.316667\n",
       "           ...    \n",
       "76513    38.000000\n",
       "76514    38.000000\n",
       "76515    11.000000\n",
       "76516    27.000000\n",
       "76517    10.000000\n",
       "Name: duration, Length: 73908, dtype: float64"
      ]
     },
     "execution_count": 8,
     "metadata": {},
     "output_type": "execute_result"
    }
   ],
   "source": [
    "df_train.duration"
   ]
  },
  {
   "cell_type": "code",
   "execution_count": 9,
   "id": "89ba3176-1a1b-4fdc-912c-35f48f30e523",
   "metadata": {},
   "outputs": [
    {
     "data": {
      "text/plain": [
       "count    73908.000000\n",
       "mean        16.852578\n",
       "std         11.563163\n",
       "min          1.000000\n",
       "25%          8.050000\n",
       "50%         14.000000\n",
       "75%         22.633333\n",
       "max         60.000000\n",
       "Name: duration, dtype: float64"
      ]
     },
     "execution_count": 9,
     "metadata": {},
     "output_type": "execute_result"
    }
   ],
   "source": [
    "df_train.duration.describe()"
   ]
  },
  {
   "cell_type": "code",
   "execution_count": 10,
   "id": "ad43b0cc-1201-4095-9bd5-388eff0e55ea",
   "metadata": {},
   "outputs": [
    {
     "data": {
      "text/plain": [
       "count    73908.000000\n",
       "mean        16.852578\n",
       "std         11.563163\n",
       "min          1.000000\n",
       "50%         14.000000\n",
       "95%         41.000000\n",
       "98%         48.781000\n",
       "99%         53.000000\n",
       "max         60.000000\n",
       "Name: duration, dtype: float64"
      ]
     },
     "execution_count": 10,
     "metadata": {},
     "output_type": "execute_result"
    }
   ],
   "source": [
    "df_train.duration.describe(percentiles=[.95,.98,.99])"
   ]
  },
  {
   "cell_type": "code",
   "execution_count": 11,
   "id": "81ce3461-f69d-4002-88ec-7e40b83fa2ab",
   "metadata": {
    "scrolled": true
   },
   "outputs": [
    {
     "data": {
      "text/plain": [
       "np.float64(9.838799799829626)"
      ]
     },
     "execution_count": 11,
     "metadata": {},
     "output_type": "execute_result"
    }
   ],
   "source": [
    "cat_cols = ['PULocationID', 'DOLocationID']\n",
    "num_cols = ['trip_distance']\n",
    "train_dicts=df_train[cat_cols+num_cols].to_dict(orient='records')\n",
    "dv=DictVectorizer()\n",
    "x_train=dv.fit_transform(train_dicts)\n",
    "target='duration'\n",
    "y_train=df_train[target].values\n",
    "lr=LinearRegression()\n",
    "lr.fit(x_train,y_train)\n",
    "y_pred=lr.predict(x_train)\n",
    "mse=mean_squared_error(y_train, y_pred)\n",
    "rmse=np.sqrt(mse)\n",
    "rmse"
   ]
  },
  {
   "cell_type": "code",
   "execution_count": 18,
   "id": "3d960db3-f950-4f6d-af60-23fd4b769dc6",
   "metadata": {},
   "outputs": [
    {
     "name": "stderr",
     "output_type": "stream",
     "text": [
      "/tmp/ipykernel_25/1877227026.py:1: UserWarning: \n",
      "\n",
      "`distplot` is a deprecated function and will be removed in seaborn v0.14.0.\n",
      "\n",
      "Please adapt your code to use either `displot` (a figure-level function with\n",
      "similar flexibility) or `histplot` (an axes-level function for histograms).\n",
      "\n",
      "For a guide to updating your code to use the new functions, please see\n",
      "https://gist.github.com/mwaskom/de44147ed2974457ad6372750bbe5751\n",
      "\n",
      "  sns.distplot(y_pred, label='Prediction')\n",
      "/tmp/ipykernel_25/1877227026.py:2: UserWarning: \n",
      "\n",
      "`distplot` is a deprecated function and will be removed in seaborn v0.14.0.\n",
      "\n",
      "Please adapt your code to use either `displot` (a figure-level function with\n",
      "similar flexibility) or `histplot` (an axes-level function for histograms).\n",
      "\n",
      "For a guide to updating your code to use the new functions, please see\n",
      "https://gist.github.com/mwaskom/de44147ed2974457ad6372750bbe5751\n",
      "\n",
      "  sns.distplot(y_train, label='Actual')\n"
     ]
    },
    {
     "data": {
      "text/plain": [
       "<matplotlib.legend.Legend at 0x74f1fe0db110>"
      ]
     },
     "execution_count": 18,
     "metadata": {},
     "output_type": "execute_result"
    },
    {
     "data": {
      "image/png": "[encoded data removed]",
      "text/plain": [
       "<Figure size 640x480 with 1 Axes>"
      ]
     },
     "metadata": {},
     "output_type": "display_data"
    }
   ],
   "source": [
    "sns.distplot(y_pred, label='Prediction')\n",
    "sns.distplot(y_train, label='Actual')\n",
    "\n",
    "plt.legend()"
   ]
  },
  {
   "cell_type": "code",
   "execution_count": 19,
   "id": "49dce787-624b-4a4e-9069-3adf9026920e",
   "metadata": {},
   "outputs": [],
   "source": [
    "df_train['PU_DO']=df_train['PULocationID']+'_'+df_train['DOLocationID']\n",
    "df_val['PU_DO'] = df_val['PULocationID'] + '_' + df_val['DOLocationID']"
   ]
  },
  {
   "cell_type": "code",
   "execution_count": 22,
   "id": "7b4d0b2d-00c1-4a90-973e-2dd001a6afbd",
   "metadata": {},
   "outputs": [],
   "source": [
    "cat_col=['PU_DO']\n",
    "num_col=['trip_distance']\n",
    "dv=DictVectorizer()\n",
    "train_dicts=df_train[cat_col+num_col].to_dict(orient='records')\n",
    "x_train=dv.fit_transform(train_dicts)\n",
    "val_dicts = df_val[cat_col + num_col].to_dict(orient='records')\n",
    "x_val = dv.transform(val_dicts)"
   ]
  },
  {
   "cell_type": "code",
   "execution_count": 23,
   "id": "734c0f3f-9d6e-4de8-9ffc-cbc93ae0c7c2",
   "metadata": {},
   "outputs": [],
   "source": [
    "target='duration'\n",
    "y_train=df_train[target].values\n",
    "y_val=df_val[target].values"
   ]
  },
  {
   "cell_type": "code",
   "execution_count": 26,
   "id": "ea23e638-8ee0-4e96-b6d9-c1e2cf1c8f15",
   "metadata": {},
   "outputs": [
    {
     "data": {
      "text/plain": [
       "np.float64(7.758715208009878)"
      ]
     },
     "execution_count": 26,
     "metadata": {},
     "output_type": "execute_result"
    }
   ],
   "source": [
    "lr=LinearRegression()\n",
    "lr.fit(x_train,y_train)\n",
    "y_pred=lr.predict(x_val)\n",
    "mse=mean_squared_error(y_val, y_pred)\n",
    "rmse=np.sqrt(mse)\n",
    "rmse"
   ]
  },
  {
   "cell_type": "code",
   "execution_count": 27,
   "id": "d81fdad2-16fb-4969-b199-c7e414d38c6a",
   "metadata": {},
   "outputs": [
    {
     "data": {
      "text/plain": [
       "np.float64(7.70373515548786)"
      ]
     },
     "execution_count": 27,
     "metadata": {},
     "output_type": "execute_result"
    }
   ],
   "source": [
    "lr=Ridge()\n",
    "lr.fit(x_train,y_train)\n",
    "\n",
    "y_pred=lr.predict(x_val)\n",
    "mse=mean_squared_error(y_val, y_pred)\n",
    "rmse=np.sqrt(mse)\n",
    "rmse"
   ]
  },
  {
   "cell_type": "code",
   "execution_count": 30,
   "id": "83fa4bda-4a3f-4977-a1cc-52897e1a4216",
   "metadata": {},
   "outputs": [],
   "source": [
    "import os\n",
    "os.makedirs('Models',exist_ok=True)\n",
    "with open('Models/rdge.bin', 'wb') as f_out:\n",
    "    pickle.dump((dv, lr), f_out)"
   ]
  },
  {
   "cell_type": "code",
   "execution_count": null,
   "id": "520234c2-a63a-4e60-8c48-8417f787070f",
   "metadata": {},
   "outputs": [],
   "source": []
  }
 ],
 "metadata": {
  "kernelspec": {
   "display_name": "Python 3 (ipykernel)",
   "language": "python",
   "name": "python3"
  },
  "language_info": {
   "codemirror_mode": {
    "name": "ipython",
    "version": 3
   },
   "file_extension": ".py",
   "mimetype": "text/x-python",
   "name": "python",
   "nbconvert_exporter": "python",
   "pygments_lexer": "ipython3",
   "version": "3.11.12"
  }
 },
 "nbformat": 4,
 "nbformat_minor": 5
}
